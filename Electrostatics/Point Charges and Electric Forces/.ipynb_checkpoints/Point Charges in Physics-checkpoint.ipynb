{
 "cells": [
  {
   "cell_type": "markdown",
   "metadata": {},
   "source": [
    "# Point Charges in Physics"
   ]
  },
  {
   "cell_type": "markdown",
   "metadata": {},
   "source": [
    "This branch of physics goes by several names, the most common being **electricity and magnetism**, and others being electromagnetic theory, electromagnetism, or electrodynamics. The most basic building blocks of electromagnetism are called **point charges**, which are small particles that have either a positive or negative charge. Imagine positively-charged protons clustered in the nucleus of an atom, or negatively-charged electrons dancing around in their orbits - these are examples of point charges, and our goal is to study how they interact, and then accurately predict their future behvior given a new scenario. There are several ways to do this, and we'll slowly go through each of them on this journey. First, we'll present some qualities that all point charges have."
   ]
  },
  {
   "cell_type": "markdown",
   "metadata": {},
   "source": [
    "* All point charges have an electric *charge*, and we refer to each point particle by its charge. Mathematically, each point charge can have a positive or negative charge, and the size of the charge is given by a number, which we call $Q$, or $q$.\n",
    "\n",
    "\n",
    "* Charge is measured in *coulombs*, named after the scientist Charles-Augustin de Coulomb. A single coulomb is a very large amount of charge, so most charges that we deal with will be on the order of millicoulombs $\\left( \\textrm{mC, } 10^{-3} \\textrm{ C}\\right)$, microcoulombs $\\left(\\mu \\textrm{C, } 10^{-6} \\textrm{ C}\\right)$, or even nanocoulombs $\\left( \\textrm{nC, } 10^{-9} \\textrm{ C}\\right)$.\n",
    "\n",
    "\n",
    "* The smallest possible charge that a particle can have is approximately $1.6 \\times 10^{-19} \\textrm{ C}$. This number is referred to as the *fundamenal unit of charge*. Instead of writing this number each time, we can simply refer to this number as $1 e$. In other words,\n",
    "\n",
    "$$ 1 e = 1.6 \\times 10^{-19} \\textrm{ C} $$\n",
    "\n",
    "\n",
    "* Protons and electrons have the same amount of charge, though they differ in sign. The charge of a proton is $q = +1 e$ and that of an electron is $q = -1 e$. All charges will be an *integer multiple* of this number $e$, so we can have point charges with charge $3 e$ or $-7 e$, but never $2/3 e$."
   ]
  },
  {
   "cell_type": "markdown",
   "metadata": {},
   "source": [
    "With these in mind, the goal now is to find out how point charges interact with each other, and to think about how to predict new scenarios computationally using Python. First, let's think about how to create individual point charges in Python."
   ]
  },
  {
   "cell_type": "markdown",
   "metadata": {},
   "source": [
    "# Examples in Python"
   ]
  },
  {
   "cell_type": "markdown",
   "metadata": {},
   "source": [
    "The most important part about point charges is, of course, their individual charges. When it comes to how charges interact with each other, one very important aspect to consider is the **distance** between charges. Let's look at an example to think about this practically."
   ]
  },
  {
   "cell_type": "markdown",
   "metadata": {},
   "source": [
    "## Example 1\n",
    "\n",
    "Say we have two positive charges called $q_1$ and $q_2$, and we place them about one meter apart. What happens? From basic intuition, we know that two positive charges will repel each other, so we might imagine that they will repel each other. While this is true, something we may be interested in is the force $F$ between the two charges. How do we measure the force between two charges? We can use Coulomb's Law, which we'll talk about in more detail later:\n",
    "\n",
    "$$ F = \\frac{kq_1q_2}{r^2} $$\n",
    "\n",
    "where $k$ is a constant $\\left( k = 8.9 \\times 10^{9} \\frac{ \\textrm{ N}\\cdot\\textrm{m}^2 }{\\textrm{C}^2} \\right)$ $q_1$ and $q_2$ are the charges, and $r$ is the distance bewteen the two charges. We can define individual variables for each of these in Python and calculate the force. Let's say that $q_1 = 5 \\times 10^{-6} \\textrm{ C}$ and $q_2 = 6.2 \\times 10^{-3} \\textrm{ C}$, so we can find the force like this:"
   ]
  },
  {
   "cell_type": "code",
   "execution_count": 10,
   "metadata": {},
   "outputs": [
    {
     "name": "stdout",
     "output_type": "stream",
     "text": [
      "The force between the charges is 275.90 Newtons.\n"
     ]
    }
   ],
   "source": [
    "# Define each variable individually (using scientific notation)\n",
    "\n",
    "k = 8.9e9       # Coulomb's constant, can be written as k = 8.9 * 10**9\n",
    "q1 = 5e-6       # First charge, in C, can be written as q1 = 5 * 10**(-6)\n",
    "q2 = 6.2e-3     # Second charge, in C, can be written as q2 = 6.2 * 10**(-3)\n",
    "r = 1           # Distance between the charges, in meters\n",
    "\n",
    "# Calculate the force, in Newtons\n",
    "\n",
    "F = k*q1*q2/r**2\n",
    "\n",
    "# Print the output using Python's string formatting\n",
    "print(\"The force between the charges is %.2f Newtons.\" % F)"
   ]
  },
  {
   "cell_type": "markdown",
   "metadata": {},
   "source": [
    "This method certainly works and calculates the force between the two charges. But sometimes, we may not be given the exact distance between the two charges, and we'll have to calculate. Instead, we may come across a problem like the following:"
   ]
  },
  {
   "cell_type": "markdown",
   "metadata": {},
   "source": [
    "## Example 2\n",
    "\n",
    "Imagine two point charges, $q_1 = 8$ $\\mu \\textrm{C}$ and $q_2 = 3 \\textrm{ mC}$ located at the points $(1,1)$ and $(10,5)$, respectively, as shown in Figure 1 below (ignore the following code - simply look at the resulting plot). Find the electrostatic force between them."
   ]
  },
  {
   "cell_type": "code",
   "execution_count": 168,
   "metadata": {},
   "outputs": [
    {
     "data": {
      "image/png": "[encoded data removed]",
      "text/plain": [
       "<Figure size 432x288 with 1 Axes>"
      ]
     },
     "metadata": {
      "needs_background": "light"
     },
     "output_type": "display_data"
    }
   ],
   "source": [
    "# Don't worry about this code - it simply uses the 'matplotlib' package\n",
    "# to plot the locations of the two point charges relative to each other.\n",
    "# Using matplotlib to visualize systems will be covered later\n",
    "\n",
    "\n",
    "import matplotlib.pyplot as plt\n",
    "from matplotlib.ticker import MultipleLocator\n",
    "\n",
    "fig, ax = plt.subplots()\n",
    "\n",
    "ax.scatter(1,1,c='r')\n",
    "ax.scatter(10,5,c='r')\n",
    "ax.set_xlim(0,14)\n",
    "ax.set_ylim(0,8)\n",
    "ax.grid()\n",
    "ax.set_xlabel('$x$ (m)')\n",
    "ax.set_ylabel('$y$ (m)')\n",
    "ax.set_title('Figure 1: Two point charges')\n",
    "\n",
    "\n",
    "ax.text(1.5, 1.65, \"$q_1$ $(1,1)$\", fontsize=15)\n",
    "ax.text(10.5, 5, \"$q_2$ $(10,5)$\", fontsize=15)\n",
    "\n",
    "\n",
    "plt.show()"
   ]
  },
  {
   "cell_type": "markdown",
   "metadata": {},
   "source": [
    "So we can visualize our point charges easily, and we know their charges and locations. If we try to calculate the force between them using the same method as before, we would try this:"
   ]
  },
  {
   "cell_type": "code",
   "execution_count": null,
   "metadata": {},
   "outputs": [],
   "source": [
    "# Define each variable individually (using scientific notation)\n",
    "\n",
    "k = 8.9e9       # Coulomb's constant, can be written as k = 8.9 * 10**9\n",
    "q1 = 8e-6       # First charge, in C, can be written as q1 = 4 * 10**(-9)\n",
    "q2 = 3e-3       # Second charge, in C, can be written as q2 = 3 * 10**(-3)\n",
    "r = ...?"
   ]
  },
  {
   "cell_type": "markdown",
   "metadata": {},
   "source": [
    "We run into a problem - what's the distance between the two charges now? It's not quite as obvious. What we can do, however, is to plot a line connecting the two point charges - the length of this line is the distance $r$ between the charges - and make this line the *hypotenuse of a right triangle*. Take a look at Figure 2."
   ]
  },
  {
   "cell_type": "code",
   "execution_count": 199,
   "metadata": {},
   "outputs": [
    {
     "data": {
      "image/png": "[encoded data removed]",
      "text/plain": [
       "<Figure size 432x288 with 1 Axes>"
      ]
     },
     "metadata": {
      "needs_background": "light"
     },
     "output_type": "display_data"
    }
   ],
   "source": [
    "# Don't worry about this code - it simply uses the 'matplotlib' package\n",
    "# to plot the locations of the two point charges relative to each other.\n",
    "# Using matplotlib to visualize systems will be covered later\n",
    "\n",
    "\n",
    "\n",
    "import matplotlib.pyplot as plt\n",
    "from matplotlib.ticker import MultipleLocator\n",
    "\n",
    "fig, ax = plt.subplots()\n",
    "\n",
    "ax.scatter(1,1,c='r')\n",
    "ax.scatter(10,5,c='r')\n",
    "ax.set_xlim(0,14)\n",
    "ax.set_ylim(0,8)\n",
    "ax.grid()\n",
    "ax.set_xlabel('$x$ (m)')\n",
    "ax.set_ylabel('$y$ (m)')\n",
    "ax.set_title('Figure 2: Two point charges (and a triangle!)')\n",
    "\n",
    "\n",
    "ax.text(0.5, 2, \"$q_1$ $(1,1)$\", fontsize=15)\n",
    "ax.text(10.5, 5, \"$q_2$ $(10,5)$\", fontsize=15)\n",
    "ax.text(4.5,4.5, '$r$ = hypotenuse', fontsize=12, rotation = 23.962489)\n",
    "ax.text(6.2,0.3, '$x$', fontsize=13)\n",
    "ax.text(10.5,3,'$y$', fontsize=13)\n",
    "\n",
    "ax.plot([1,10],[1,1], 'r')\n",
    "ax.plot([10,10],[1,5], 'r')\n",
    "ax.plot([1,10],[1,5], 'r')\n",
    "\n",
    "plt.show()"
   ]
  },
  {
   "cell_type": "markdown",
   "metadata": {},
   "source": [
    "The line between the two points is the *hypotenuse* of the triangle, and the Pythagorean Theorem tells us that if we know the length of the two sides of the triangle, we can find the length of the hypotenuse. If the length of the horizontal line of the triangle is $x$ and the length of the vertical side is $y$, then the length of the hypotenuse $r$ (which is the distance we're looking for) can be found by:\n",
    "\n",
    "$$ r = \\sqrt{x^2 + y^2} $$"
   ]
  },
  {
   "cell_type": "markdown",
   "metadata": {},
   "source": [
    "In order to find $r$ in our problem, we can do the following: define the four coordinates for each point in Python (two coordinates for $q_1$ and two for $q_2$), find the distances between the x-coordinates and y-coordinates, and use the Pythagorean theorem to find the distance between them. Look at Figure 3:"
   ]
  },
  {
   "cell_type": "code",
   "execution_count": 204,
   "metadata": {},
   "outputs": [
    {
     "data": {
      "image/png": "[encoded data removed]",
      "text/plain": [
       "<Figure size 432x288 with 1 Axes>"
      ]
     },
     "metadata": {
      "needs_background": "light"
     },
     "output_type": "display_data"
    }
   ],
   "source": [
    "# Don't worry about this code - it simply uses the 'matplotlib' package\n",
    "# to plot the locations of the two point charges relative to each other.\n",
    "# Using matplotlib to visualize systems will be covered later\n",
    "\n",
    "\n",
    "\n",
    "import matplotlib.pyplot as plt\n",
    "from matplotlib.ticker import MultipleLocator\n",
    "\n",
    "fig, ax = plt.subplots()\n",
    "\n",
    "ax.scatter(1,1,c='r')\n",
    "ax.scatter(10,5,c='r')\n",
    "ax.set_xlim(0,14)\n",
    "ax.set_ylim(-1,8)\n",
    "ax.grid()\n",
    "ax.set_xlabel('$x$ (m)')\n",
    "ax.set_ylabel('$y$ (m)')\n",
    "#ax.axvline(x=0, c='k')\n",
    "#ax.axhline(y=0, c='k')\n",
    "ax.set_title('Figure 3: Two point charges (and distances)')\n",
    "\n",
    "\n",
    "ax.text(0.5, 2, \"$q_1$ $(1,1)$\", fontsize=15)\n",
    "ax.text(10.5, 5, \"$q_2$ $(10,5)$\", fontsize=15)\n",
    "\n",
    "ax.plot([1,10],[1,1], 'r')\n",
    "ax.plot(10,1, 'ro')\n",
    "ax.plot([10,10],[1,5], 'r')\n",
    "ax.plot([1,10],[1,5], 'r')\n",
    "\n",
    "ax.text(4.5,0, '$x_2 - x_1 = 9$', fontsize = 15)\n",
    "ax.text(10.2,3, '$y_2 - y_1 = 4$', fontsize=15)\n",
    "ax.text(5.2,4.5, '$r = $?', fontsize=15, rotation = 23.962489)\n",
    "\n",
    "plt.show()"
   ]
  },
  {
   "cell_type": "markdown",
   "metadata": {},
   "source": [
    "Let's now define our Python variables, $(x_1,y_1)$ and $(x_2,y_2)$, and calculate the value of $r$."
   ]
  },
  {
   "cell_type": "code",
   "execution_count": 186,
   "metadata": {},
   "outputs": [],
   "source": [
    "# Coordinates for q1\n",
    "x1 = 1\n",
    "y1 = 1\n",
    "\n",
    "# Coordinates for q2\n",
    "x2 = 10\n",
    "y2 = 5\n",
    "\n",
    "# Calculate the distances, or the sides of the triangle\n",
    "x_dist = x2 - x1\n",
    "y_dist = y2 - y1\n",
    "\n",
    "# The square root (sqrt) function is not built in - we have to import it from the 'math' module to use it\n",
    "from math import sqrt\n",
    "\n",
    "# Calculate the value of the hypotenuse\n",
    "r = sqrt(x_dist**2 + y_dist**2)"
   ]
  },
  {
   "cell_type": "markdown",
   "metadata": {},
   "source": [
    "Now that we have the value of $r$, we can go back to our original problem and calculate the force between the charges."
   ]
  },
  {
   "cell_type": "code",
   "execution_count": 205,
   "metadata": {},
   "outputs": [
    {
     "name": "stdout",
     "output_type": "stream",
     "text": [
      "The force between the charges is 2.2 Newtons.\n"
     ]
    }
   ],
   "source": [
    "# Define each variable individually (using scientific notation)\n",
    "\n",
    "k = 8.9e9       # Coulomb's constant, can be written as k = 8.9 * 10**9\n",
    "q1 = 8e-6       # First charge, in C, can be written as q1 = 4 * 10**(-9)\n",
    "q2 = 3e-3       # Second charge, in C, can be written as q2 = 3 * 10**(-3)\n",
    "r = sqrt(x_dist**2 + y_dist**2)   # From the previous code block\n",
    "\n",
    "# Calculate the force, in Newtons\n",
    "\n",
    "F = k*q1*q2/r**2\n",
    "\n",
    "# Print the output using Python's string formatting\n",
    "print(\"The force between the charges is %.2g Newtons.\" % F)"
   ]
  },
  {
   "cell_type": "markdown",
   "metadata": {},
   "source": [
    "While this method worked, it's rather cumbersome. For each point charge, we have to manually type out the charge, the $x$- and $y$-coordinates, and then we had to calculate the distances and force. If we had several charges, which we eventually get to, this task seems daunting. Rather, we will develop methods to reduce the amount of work for us and quickly calculate everything we need to. In the next section, we will explore how to think about point charges from a Python perspective."
   ]
  }
 ],
 "metadata": {
  "kernelspec": {
   "display_name": "Python 3",
   "language": "python",
   "name": "python3"
  },
  "language_info": {
   "codemirror_mode": {
    "name": "ipython",
    "version": 3
   },
   "file_extension": ".py",
   "mimetype": "text/x-python",
   "name": "python",
   "nbconvert_exporter": "python",
   "pygments_lexer": "ipython3",
   "version": "3.8.1"
  }
 },
 "nbformat": 4,
 "nbformat_minor": 4
}
