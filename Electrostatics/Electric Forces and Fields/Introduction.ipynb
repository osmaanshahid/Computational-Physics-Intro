{
 "cells": [
  {
   "cell_type": "markdown",
   "metadata": {},
   "source": [
    "# Motivation\n",
    "\n",
    "In nature, we often find and deal with electric charges, which come in one of two flavors: positive or negative. For example, in chemistry, we see positively charged protons in the nucleus of atoms, and negatively charged electrons in the orbitals. Adding or removing electrons creates ions, which often form the basis of chemical reactions. In biology, we take into account the negative charge of the DNA backbone, or the various charges found on proteins. Without charges, many proteins would lose their functions, and biological reactions would be left incomplete.\n",
    "\n",
    "Studying how charges interact with each other allows us to understand the motion of molecules and particles in the natural world, with examples easily found in the fields of chemistry, electronics, biochemistry, biology, neuroscience, medicine, and other areas of physics. Learning the basics of the interactions between charges forms the basis of all electricity and magnetism, starting with electrostatics."
   ]
  },
  {
   "cell_type": "markdown",
   "metadata": {},
   "source": [
    "# A First Example\n",
    "\n",
    "To begin, let's imagine we have a small, positively charged particle (like a proton). We'll name this point charge $q_1$, and we'll also assign a number to $q_1$, which tells us how strong the charge is. For example, we can say that $q_1 = 5$ nano coulombs, or $5 \\textrm{ nC}$. In scientific notation, $q_1 = 5 \\times 10^{-9} \\textrm{ C}$.\n",
    "\n",
    "Similarly, we can have a small, negatively charged particle (like an electron). We'll name it $q_2$, and assign it a number as well, say $q_2 = -3 \\textrm{ nC}$, or $q_2 = -3 \\times 10^{-9} \\textrm{ C}$.\n",
    "\n",
    "Another important thing to consider is the distance between the charges. For reasons that will become clear later on, physicists tend to define the distance between two charges using the letter $r$. In this example, we can say that $r = 1 \\textrm{ meter}$, or $r = 1 \\textrm{ m}$.\n",
    "\n",
    "\n",
    "\n",
    "\n",
    "One of the most fundamental laws that describe the interaction between electric charges is Coulomb's Law. This states that the electrostatic force between two charges is proportional to the size of the charges, and is in"
   ]
  },
  {
   "cell_type": "code",
   "execution_count": null,
   "metadata": {},
   "outputs": [],
   "source": [
    "q1 = 5 * 10**(-9)    # Charge q1 measured in Coulombs\n",
    "                     # Can also be written as q1 = 5e-9"
   ]
  },
  {
   "cell_type": "code",
   "execution_count": null,
   "metadata": {},
   "outputs": [],
   "source": []
  },
  {
   "cell_type": "code",
   "execution_count": null,
   "metadata": {},
   "outputs": [],
   "source": []
  },
  {
   "cell_type": "code",
   "execution_count": null,
   "metadata": {},
   "outputs": [],
   "source": []
  },
  {
   "cell_type": "code",
   "execution_count": null,
   "metadata": {},
   "outputs": [],
   "source": []
  }
 ],
 "metadata": {
  "kernelspec": {
   "display_name": "CompPhys",
   "language": "python",
   "name": "compphys"
  },
  "language_info": {
   "codemirror_mode": {
    "name": "ipython",
    "version": 3
   },
   "file_extension": ".py",
   "mimetype": "text/x-python",
   "name": "python",
   "nbconvert_exporter": "python",
   "pygments_lexer": "ipython3",
   "version": "3.8.1"
  }
 },
 "nbformat": 4,
 "nbformat_minor": 4
}
