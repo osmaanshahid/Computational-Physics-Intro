{
 "cells": [
  {
   "cell_type": "markdown",
   "metadata": {},
   "source": [
    "# Motivation\n",
    "\n",
    "In nature, we often find and deal with electric charges, which come in one of two flavors: positive or negative. For example, in chemistry, we see positively charged protons in the nucleus of atoms, and negatively charged electrons in the orbitals. Adding or removing electrons creates ions, which usually form the basis of many chemical reactions. In biology, we take into account the negative charge of the DNA backbone, or the various charges found on proteins. Without charges, many proteins would lose their functions, and biological reactions would be left incomplete.\n",
    "\n",
    "Studying how charges interact with each other allows us to understand the motion of molecules and particles in the natural world, with examples easily found in the fields of chemistry, electronics, biochemistry, biology, neuroscience, medicine, and other areas of physics. Learning the basics of the interactions between charges forms the basis of all electricity and magnetism, starting with electrostatics."
   ]
  },
  {
   "cell_type": "markdown",
   "metadata": {},
   "source": [
    "# A First Example\n",
    "\n",
    "To begin, let's imagine we have a small, positively charged particle (like a proton). We'll name this point charge $q_1$, and we'll also assign a number to $q_1$, which tells us how strong the charge is. For example, we can say that $q_1 = 5$ nano coulombs, or $5$ $\\textrm{nC}$. In scientific notation, $q_1 = 5 \\times 10^{-9}$ $\\textrm{C}$.\n",
    "\n",
    "Similarly, we can have a small, negatively charged particle (like an electron). We'll name it $q_2$, and assign it a number as well, say $q_2 = -3$ $\\textrm{nC}$, or $q_2 = -3$ $\\times 10^{-9} \\textrm{C}$.\n",
    "\n",
    "Another important thing to consider is the distance between the charges. For reasons that will become clear later on, physicists tend to define the distance between two charges using the letter $r$. In this example, we can say that $r = 1$ $\\textrm{meter}$, or $r = 1$ $\\textrm{m}$."
   ]
  },
  {
   "cell_type": "code",
   "execution_count": 1,
   "metadata": {},
   "outputs": [
    {
     "data": {
      "image/png": "[encoded data removed]",
      "text/plain": [
       "<Figure size 432x288 with 1 Axes>"
      ]
     },
     "metadata": {
      "needs_background": "light"
     },
     "output_type": "display_data"
    }
   ],
   "source": [
    "# Visualize the two charges\n",
    "# Add comments\n",
    "\n",
    "import matplotlib.pyplot as plt\n",
    "\n",
    "plt.scatter([0],[0], c='r')\n",
    "plt.scatter([1],[0])\n",
    "plt.grid()\n",
    "plt.xlabel(\"$x$ (m)\")\n",
    "plt.title(\"Two point charges\")\n",
    "plt.show()"
   ]
  },
  {
   "cell_type": "markdown",
   "metadata": {},
   "source": [
    "The main question in electrostatics is this: **when we have multiple charges near each other, how do they interact with each other, and what happens to each charge?**\n",
    "\n",
    "In this case, we would probably imagine that the two charges would attract each other, since one is positively charged and one is negatively charged, and opposite charges attract. But this is only a qualitative answer to our question, and a quantitative answer may be better. For example, how strong is the attraction between the charges, and how do we measure it? Better yet, we can try and think about how this attraction might change if we move some of the charges around, or change the strength of the charge. Specifically, we'd like to know how the interaction changes if:\n",
    "\n",
    "* the distance between the charges becomes larger or smaller (when $r$ changes)\n",
    "* the strength of the charge changes (like if $q_1$ was $10$ $\\textrm{nC}$ instead of $5$ $\\textrm{nC}$)\n",
    "* the signs of the charges change (what if they were both positive or negative?)\n",
    "\n",
    "For the answer, we turn to Coulomb's Law in the next section."
   ]
  },
  {
   "cell_type": "markdown",
   "metadata": {},
   "source": [
    "# Coulomb's Law"
   ]
  },
  {
   "cell_type": "markdown",
   "metadata": {},
   "source": [
    "In the 18<sup>th</sup> century, Charles-Augustin de Coulomb and other scientists ran experiments between electrically charged spheres to find out how charges interact with each other. They made the following observations:\n",
    "\n",
    "* The force between charges is *attractive* if the charges are oppositely charged, and the force is *repulsive* if the charges have the same sign.\n",
    "* The strength (magnitude) of the force is proportional to the *product of the charges*. This means that the force is stronger if the charges are larger. Mathematically, $F \\propto q_1 q_2$. \n",
    "* The magnitude of the force is *inversely* proportional to $r^2$, rather than $r$ (where $r$ is the distance between the charges). This means that if we double the distance between the charges (when $r \\rightarrow 2r$), then the force decreases by a factor of 4 (or 2<sup>2</sup>). Mathematically, $F \\propto \\frac{1}{r^2}$.\n",
    "\n",
    "Putting these observations together, Coulomb was able to produce a single equation, often named **Coulomb's Law**:"
   ]
  },
  {
   "cell_type": "markdown",
   "metadata": {},
   "source": [
    "$$ F = \\frac{kq_1q_2}{r^2} $$"
   ]
  },
  {
   "cell_type": "markdown",
   "metadata": {},
   "source": [
    "with $$ k = 8.99 \\times 10^9  \\frac{\\textrm{ N} \\cdot \\textrm{m}^2}{\\textrm{C}^2}$$"
   ]
  },
  {
   "cell_type": "markdown",
   "metadata": {},
   "source": [
    "where:\n",
    "\n",
    "* $k$ is Coulomb's constant\n",
    "* $q_1$ is the magnitude of the first charge (measured in Coulombs, $\\textrm{C}$)\n",
    "* $q_2$ is the magnitide of the second charge (measured in Coulombs, $\\textrm{C}$)\n",
    "* $r$ is the distance betweeen the two charges (measured in meters, $\\textrm{m}$)"
   ]
  },
  {
   "cell_type": "markdown",
   "metadata": {},
   "source": [
    "The above equation, Coulomb's Law, describes the force between electric charges in the way that we would expect: the larger the charges $q_1$ and $q_2$, the stronger the force, and the larger the distance $r$ between them, the weaker the force. Let's use Python to calculate the force between two charges in our above example"
   ]
  },
  {
   "cell_type": "markdown",
   "metadata": {},
   "source": [
    "We start by defining two Python variables, q1 and q2, by the magnitude of the charge in Coulombs:"
   ]
  },
  {
   "cell_type": "code",
   "execution_count": 2,
   "metadata": {},
   "outputs": [],
   "source": [
    "q1 = 5 * 10**(-9)    # Charge q1 measured in Coulombs\n",
    "                     # Can also be written as q1 = 5e-9\n",
    "    \n",
    "q2 = -3 * 10**(-9 )  # Can also be written as q2 = -3e-9"
   ]
  },
  {
   "cell_type": "markdown",
   "metadata": {},
   "source": [
    "Then we define the distance $r$ between the two point charges:"
   ]
  },
  {
   "cell_type": "code",
   "execution_count": 3,
   "metadata": {},
   "outputs": [],
   "source": [
    "r = 1                # Units are in meters"
   ]
  },
  {
   "cell_type": "markdown",
   "metadata": {},
   "source": [
    "Using Coulomb's Law, calculate the force. Keep in mind that we have to define Coulomb's constant ($k$), and that we have to square the value of $r$ in the denominator. In Python, the 'square' operator is given by a double asterisk (\\*\\*), so we'll use r\\*\\*2 in our code"
   ]
  },
  {
   "cell_type": "code",
   "execution_count": 4,
   "metadata": {},
   "outputs": [],
   "source": [
    "k = 8.99e9\n",
    "\n",
    "F = k*q1*q2/r**2"
   ]
  },
  {
   "cell_type": "markdown",
   "metadata": {},
   "source": [
    "Since we only want the magnitude of the force, we should take the absolute value by using Python's `abs` function:"
   ]
  },
  {
   "cell_type": "code",
   "execution_count": 5,
   "metadata": {},
   "outputs": [],
   "source": [
    "F = abs(F)"
   ]
  },
  {
   "cell_type": "markdown",
   "metadata": {},
   "source": [
    "Whenver Python evaluates an expression, like in the above cell, it first calculates the right-hand side and then assigns that number to the left-hand side. In this case, it evaluates the absolute value of $F$ (right-hand side), and then assigns that new value to $F$ (left-hand side). Whenver we call $F$ from now on, it'll use the new value."
   ]
  },
  {
   "cell_type": "markdown",
   "metadata": {},
   "source": [
    "We can print the output using the `print` function in Python:"
   ]
  },
  {
   "cell_type": "code",
   "execution_count": 6,
   "metadata": {},
   "outputs": [
    {
     "name": "stdout",
     "output_type": "stream",
     "text": [
      "The magnitude of the force between the two charges is 1.3e-07 Newtons.\n"
     ]
    }
   ],
   "source": [
    "print(\"The magnitude of the force between the two charges is %.2g Newtons.\" % F)"
   ]
  }
 ],
 "metadata": {
  "kernelspec": {
   "display_name": "CompPhys",
   "language": "python",
   "name": "compphys"
  },
  "language_info": {
   "codemirror_mode": {
    "name": "ipython",
    "version": 3
   },
   "file_extension": ".py",
   "mimetype": "text/x-python",
   "name": "python",
   "nbconvert_exporter": "python",
   "pygments_lexer": "ipython3",
   "version": "3.8.1"
  }
 },
 "nbformat": 4,
 "nbformat_minor": 4
}
