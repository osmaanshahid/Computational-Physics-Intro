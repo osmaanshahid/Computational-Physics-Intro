{
 "cells": [
  {
   "cell_type": "markdown",
   "metadata": {},
   "source": [
    "# Plotting Point Charges in Python"
   ]
  },
  {
   "cell_type": "markdown",
   "metadata": {},
   "source": [
    "Part 1 of this lesson went through the basic `matplotlib.pyplot` usage for making a scatter plot. In Part 2, we'll go through creating point charges again, and then we'll think about different ways for plotting actual `PointCharge` objects, starting with the hard and tedious methods, and then using loops to make this process easy for us."
   ]
  },
  {
   "cell_type": "markdown",
   "metadata": {},
   "source": [
    "# Creating Point Charges (Review)"
   ]
  },
  {
   "cell_type": "markdown",
   "metadata": {},
   "source": [
    "Just as a quick review, we can create a blueprint for making `PointCharge` objects by using a class, and each `PointCharge` object has its own charge, $x$-coordinate, and $y$-coordinate that we can call by using dot notation. Take a look at the class definition below:"
   ]
  },
  {
   "cell_type": "code",
   "execution_count": 3,
   "metadata": {},
   "outputs": [],
   "source": [
    "class PointCharge:\n",
    "    \"\"\"\n",
    "    This class creates the definition of a point charge, which is a point particle (like a proton or electron)\n",
    "    of charge q at the point (x,y). The values of q, x, and y are determined when the point particle \n",
    "    is created.\n",
    "    \"\"\"\n",
    "    \n",
    "    # Define the initializer (init), which initializes each point charge.\n",
    "    # Add charge (q), x-coordinate (x), and y-coordinate (y) to each new point charge.\n",
    "    \n",
    "    # The order of the variables is (charge, x-coord, y-coord)\n",
    "    def __init__(self,q,x,y):\n",
    "        self.q = q\n",
    "        self.x = x\n",
    "        self.y = y\n",
    "        \n",
    "    # We have now defined, in Python, what a point charge is. We can create as many point charges as we\n",
    "    # would like to, by using the syntax:\n",
    "    \n",
    "    # PointCharge(q,x,y)"
   ]
  },
  {
   "cell_type": "markdown",
   "metadata": {},
   "source": [
    "So to create a point charge $q_1$ with charge $5.2 \\times 10^{-6}$ $\\textrm{C}$ at the point $(4,7)$, we would do it like this:"
   ]
  },
  {
   "cell_type": "code",
   "execution_count": 2,
   "metadata": {},
   "outputs": [],
   "source": [
    "q1 = PointCharge(5.2e-6, 4, 7)"
   ]
  },
  {
   "cell_type": "markdown",
   "metadata": {},
   "source": [
    "And we can call the charge and coordinates like so:"
   ]
  },
  {
   "cell_type": "code",
   "execution_count": 3,
   "metadata": {},
   "outputs": [
    {
     "name": "stdout",
     "output_type": "stream",
     "text": [
      "5.2e-06\n",
      "4\n",
      "7\n"
     ]
    }
   ],
   "source": [
    "print(q1.q)        # Prints the charge\n",
    "print(q1.x)        # Prints the x-coordinate\n",
    "print(q1.y)        # Prints the y-coordinate"
   ]
  },
  {
   "cell_type": "markdown",
   "metadata": {},
   "source": [
    "# The Problem Statement"
   ]
  },
  {
   "cell_type": "markdown",
   "metadata": {},
   "source": [
    "For the rest of this lesson, we will be using four point charges that are placed at the corners of a rectangle. The charges and coordinates are:\n",
    "\n",
    "$q_1 = 6.3$ $\\mu\\textrm{C}$, $(4,2)$  \n",
    "$q_2 = -7.1$ $\\textrm{mC}$, $(4,-2)$  \n",
    "$q_3 = -1.2$ $\\mu\\textrm{C}$, $(-4,2)$  \n",
    "$q_4 = 4.9$ $\\textrm{mC}$, $(-4,-2)$  \n",
    "\n",
    "What we would like to do is to find an easy and elegant method to plot all the point charges easily. We start with a simple yet tedious method, and then advance to a more Pythonic and rewarding method. Either way, we need to import the `matplotlib.pyplot` library:"
   ]
  },
  {
   "cell_type": "code",
   "execution_count": 1,
   "metadata": {},
   "outputs": [],
   "source": [
    "import matplotlib.pyplot as plt"
   ]
  },
  {
   "cell_type": "markdown",
   "metadata": {},
   "source": [
    "# Plotting Point Charges - The Tedious Way"
   ]
  },
  {
   "cell_type": "markdown",
   "metadata": {},
   "source": [
    "We begin by using a brute force method. First, we create each point charge individually:"
   ]
  },
  {
   "cell_type": "code",
   "execution_count": 4,
   "metadata": {},
   "outputs": [],
   "source": [
    "q1 = PointCharge(6.3e-6, 4, 2)\n",
    "q2 = PointCharge(-7.1e-3, 4, -2)\n",
    "q3 = PointCharge(-1.2e-6, -4, 2)\n",
    "q4 = PointCharge(4.9e-3, -4, -2)"
   ]
  },
  {
   "cell_type": "markdown",
   "metadata": {},
   "source": [
    "(Note that while this method works, it becomes increasingly more difficult as we add more charges)\n",
    "\n",
    "Next, we create a figure and axes object in order to plot the point charges using the `plt.subplots()` function. For each point, we add a scatter plot. For positive charges, we color them red and for negative charges, we color them blue. Add a color to scatter plots by using the `c` option, as shown below."
   ]
  },
  {
   "cell_type": "code",
   "execution_count": 13,
   "metadata": {},
   "outputs": [
    {
     "data": {
      "image/png": "[encoded data removed]",
      "text/plain": [
       "<Figure size 432x288 with 1 Axes>"
      ]
     },
     "metadata": {
      "needs_background": "light"
     },
     "output_type": "display_data"
    }
   ],
   "source": [
    "# Create the fig and ax objects\n",
    "fig, ax = plt.subplots()\n",
    "\n",
    "# For each point, add a scatter plot with a color\n",
    "ax.scatter(q1.x, q1.y, c = 'red')\n",
    "ax.scatter(q2.x, q2.y, c = 'blue')\n",
    "ax.scatter(q3.x, q3.y, c = 'blue')\n",
    "ax.scatter(q4.x, q4.y, c = 'red')\n",
    "\n",
    "# Set a title, x-label, and y-label.\n",
    "ax.set_title(\"Four Point Charges\")\n",
    "ax.set_xlabel(\"X axis\")\n",
    "ax.set_ylabel(\"Y axis\")\n",
    "\n",
    "# Change the limits for the x-axis so that it goes from x = -5 to x = 5.\n",
    "ax.set_xlim(-5, 5)\n",
    "\n",
    "# Change the limits for the y-axis so that it goes from y = -5 to y = 5.\n",
    "ax.set_ylim(-5, 5)\n",
    "\n",
    "# Put a grid on the axis\n",
    "ax.grid()\n",
    "\n",
    "# Finally, show the figure\n",
    "plt.show()"
   ]
  },
  {
   "cell_type": "markdown",
   "metadata": {},
   "source": [
    "That's it! We successfully plotted each point charge onto a scatter plot. This was easy enough for four charges, but if we have 10 or 20 charges, this can easily become tiresome. Instead, what we should be thinking about is using a **for loop**."
   ]
  },
  {
   "cell_type": "markdown",
   "metadata": {},
   "source": [
    "# For Loops - Quick Review"
   ]
  },
  {
   "cell_type": "markdown",
   "metadata": {},
   "source": [
    "In Python (and many other programming languages), a **for loop** is used to perform a series of computations a set number of times. For example, if we have a list of fruits,"
   ]
  },
  {
   "cell_type": "code",
   "execution_count": 14,
   "metadata": {},
   "outputs": [],
   "source": [
    "fruits = ['apples', 'bananas', 'pineapples', 'grapes', 'oranges']"
   ]
  },
  {
   "cell_type": "markdown",
   "metadata": {},
   "source": [
    "then we can write a for loop that iterates over and prints out each fruit:"
   ]
  },
  {
   "cell_type": "code",
   "execution_count": 15,
   "metadata": {},
   "outputs": [
    {
     "name": "stdout",
     "output_type": "stream",
     "text": [
      "apples\n",
      "bananas\n",
      "pineapples\n",
      "grapes\n",
      "oranges\n"
     ]
    }
   ],
   "source": [
    "for fruit in fruits:                 # For each item in the 'fruits' list,\n",
    "    print(fruit)                     # Print out the item"
   ]
  },
  {
   "cell_type": "markdown",
   "metadata": {},
   "source": [
    "This prints out each item (which we called `fruit` in the above code).\n",
    "\n",
    "We can also perform this by using an index. For example, if we'd like to access the first item in the list, we would use:"
   ]
  },
  {
   "cell_type": "code",
   "execution_count": 17,
   "metadata": {},
   "outputs": [
    {
     "data": {
      "text/plain": [
       "'apples'"
      ]
     },
     "execution_count": 17,
     "metadata": {},
     "output_type": "execute_result"
    }
   ],
   "source": [
    "fruits[0]"
   ]
  },
  {
   "cell_type": "markdown",
   "metadata": {},
   "source": [
    "(We use `0` here instead of `1` since Python's counting starts at zero - in other words, Python is *zero indexed*)\n",
    "\n",
    "What we can do is create an index called `i` that starts at 0 and ends at 4 (which is the length of the `fruits` list). Take a look at the following code, which uses the `range` function. We create an index `i` that goes from 0 through the length of the `fruits` list and prints out the index:"
   ]
  },
  {
   "cell_type": "code",
   "execution_count": 18,
   "metadata": {},
   "outputs": [
    {
     "name": "stdout",
     "output_type": "stream",
     "text": [
      "0\n",
      "1\n",
      "2\n",
      "3\n",
      "4\n"
     ]
    }
   ],
   "source": [
    "for i in range(len(fruits)):\n",
    "    print(i)"
   ]
  },
  {
   "cell_type": "markdown",
   "metadata": {},
   "source": [
    "So this `for` loop creates an index that goes from 0 to 4. Now instead of printing out the index `i`, we can print out the `i`<sup>th</sup> fruit in the list:"
   ]
  },
  {
   "cell_type": "code",
   "execution_count": 19,
   "metadata": {},
   "outputs": [
    {
     "name": "stdout",
     "output_type": "stream",
     "text": [
      "apples\n",
      "bananas\n",
      "pineapples\n",
      "grapes\n",
      "oranges\n"
     ]
    }
   ],
   "source": [
    "for i in range(len(fruits)):\n",
    "    print(fruits[i])"
   ]
  },
  {
   "cell_type": "markdown",
   "metadata": {},
   "source": [
    "Combining `for` loops with an index can be very useful, and can lead to quick calculations in Python. One last method to create `for` loops is by using the `enumerate` function. This powerful function, when used in a for loop, returns both the index *and* the actual item. For example:"
   ]
  },
  {
   "cell_type": "code",
   "execution_count": 21,
   "metadata": {},
   "outputs": [
    {
     "name": "stdout",
     "output_type": "stream",
     "text": [
      "0 apples\n",
      "1 bananas\n",
      "2 pineapples\n",
      "3 grapes\n",
      "4 oranges\n"
     ]
    }
   ],
   "source": [
    "for i,fruit in enumerate(fruits):   # For i = index and fruit = item in the 'fruits' list,\n",
    "    print(i, fruit)                 # Print the index and fruit"
   ]
  },
  {
   "cell_type": "markdown",
   "metadata": {},
   "source": [
    "We will be using either the `range` function or the `enumerate` function to loop over lists, so please familiarize yourself with them."
   ]
  },
  {
   "cell_type": "markdown",
   "metadata": {},
   "source": [
    "# Plotting Point Charges - A Better Method"
   ]
  },
  {
   "cell_type": "markdown",
   "metadata": {},
   "source": [
    "With the basics of `for` loops under our belt, we can continue with plotting point charges. In order to truly utilize the power of loops, we should combine each `PointCharge` object that we created earlier into a single list called `charges`."
   ]
  },
  {
   "cell_type": "code",
   "execution_count": 23,
   "metadata": {},
   "outputs": [],
   "source": [
    "charges = [q1, q2, q3, q4]"
   ]
  },
  {
   "cell_type": "markdown",
   "metadata": {},
   "source": [
    "Now that we have a list of charges, we can loop over each charge and use their individual information. For example, we can print each charge, x-coordinate, and y-coordinate in two lines:"
   ]
  },
  {
   "cell_type": "code",
   "execution_count": 25,
   "metadata": {},
   "outputs": [
    {
     "name": "stdout",
     "output_type": "stream",
     "text": [
      "6.3e-06 4 2\n",
      "-0.0071 4 -2\n",
      "-1.2e-06 -4 2\n",
      "0.0049 -4 -2\n"
     ]
    }
   ],
   "source": [
    "for i,charge in enumerate(charges):          # For each charge in our 'charges' list,\n",
    "    print(charge.q, charge.x, charge.y)      # Print the charge, x-coord, and y-coord"
   ]
  },
  {
   "cell_type": "markdown",
   "metadata": {},
   "source": [
    "The result may not look pretty, but it certainly gives the correct results.\n",
    "\n",
    "Returning to our original problem, the method we will use is to extract all the $x$-coordinates into a list called `xcoords`, and all the $y$-coordinates into a list called `ycoords`. Then, we can plot all four charges simultaneously using\n",
    "\n",
    "`ax.scatter(xcoords,ycoords)`\n",
    "\n",
    "First, we create empty lists - `xcoords` and `ycoords` - and then we loop over all the charges, appending the respective coordinates as we go along."
   ]
  },
  {
   "cell_type": "code",
   "execution_count": 26,
   "metadata": {},
   "outputs": [],
   "source": [
    "# Create two empty lists - one for the x-coordinates and one for the y-coordinates\n",
    "# As we loop through each charge, we will append its coordinates to these lists\n",
    "xcoords = []\n",
    "ycoords = []\n",
    "\n",
    "for i,charge in enumerate(charges):      # For each charge,\n",
    "    xcoords.append(charge.x)             # Append the x-coordinate to the xcoords list\n",
    "    ycoords.append(charge.y)             # Append the y-coordinate to the ycoords list"
   ]
  },
  {
   "cell_type": "code",
   "execution_count": 28,
   "metadata": {},
   "outputs": [
    {
     "name": "stdout",
     "output_type": "stream",
     "text": [
      "[4, 4, -4, -4]\n",
      "[2, -2, 2, -2]\n"
     ]
    }
   ],
   "source": [
    "# Print the results to see if we did it correctly\n",
    "print(xcoords)\n",
    "print(ycoords)"
   ]
  },
  {
   "cell_type": "markdown",
   "metadata": {},
   "source": [
    "Now that we have "
   ]
  },
  {
   "cell_type": "code",
   "execution_count": 31,
   "metadata": {},
   "outputs": [
    {
     "data": {
      "image/png": "[encoded data removed]",
      "text/plain": [
       "<Figure size 432x288 with 1 Axes>"
      ]
     },
     "metadata": {
      "needs_background": "light"
     },
     "output_type": "display_data"
    }
   ],
   "source": [
    "# Create the fig and ax objects\n",
    "fig, ax = plt.subplots()\n",
    "\n",
    "# For each point, add a scatter plot with a color\n",
    "ax.scatter(xcoords, ycoords, c = ['red','blue','blue','red'])\n",
    "\n",
    "# Note: Adding colors like this is not recommended - we can use a for loop to fix this!\n",
    "\n",
    "# Set a title, x-label, and y-label.\n",
    "ax.set_title(\"Four Point Charges\")\n",
    "ax.set_xlabel(\"X axis\")\n",
    "ax.set_ylabel(\"Y axis\")\n",
    "\n",
    "# Change the limits for the x-axis so that it goes from x = -5 to x = 5.\n",
    "ax.set_xlim(-5, 5)\n",
    "\n",
    "# Change the limits for the y-axis so that it goes from y = -5 to y = 5.\n",
    "ax.set_ylim(-5, 5)\n",
    "\n",
    "# Put a grid on the axis\n",
    "ax.grid()\n",
    "\n",
    "# Finally, show the figure\n",
    "plt.show()"
   ]
  }
 ],
 "metadata": {
  "kernelspec": {
   "display_name": "CompPhys",
   "language": "python",
   "name": "compphys"
  },
  "language_info": {
   "codemirror_mode": {
    "name": "ipython",
    "version": 3
   },
   "file_extension": ".py",
   "mimetype": "text/x-python",
   "name": "python",
   "nbconvert_exporter": "python",
   "pygments_lexer": "ipython3",
   "version": "3.8.1"
  }
 },
 "nbformat": 4,
 "nbformat_minor": 4
}
