{
 "cells": [
  {
   "cell_type": "markdown",
   "metadata": {},
   "source": [
    "# Point Charges in Python"
   ]
  },
  {
   "cell_type": "markdown",
   "metadata": {},
   "source": [
    "Our goal for this series is to learn how to use Python to help us with our physics computations. Python is an *object-oriented language*, and we will be making heavy use of Python's objects. Everything in Python is an object, meaning that every variable holds information for us in ways that we can extract and manipulate as we'd like. For example, let's take a look at a Python *list*, which is just a list of data that we can manipulate. We'll make a list called `physicists` where each list element is a string representing the name of a famous physicist. All we have to do is use square brackets `[]`."
   ]
  },
  {
   "cell_type": "code",
   "execution_count": 1,
   "metadata": {},
   "outputs": [],
   "source": [
    "physicists = ['Maxwell', 'Einstein', 'Curie', 'Newton', 'Lagrange']"
   ]
  },
  {
   "cell_type": "markdown",
   "metadata": {},
   "source": [
    "The `physicists` list is a Python object, meaning that we can perform different operations on it. For example, we can measure its length by using the `len` function:"
   ]
  },
  {
   "cell_type": "code",
   "execution_count": 2,
   "metadata": {},
   "outputs": [
    {
     "data": {
      "text/plain": [
       "5"
      ]
     },
     "execution_count": 2,
     "metadata": {},
     "output_type": "execute_result"
    }
   ],
   "source": [
    "len(physicists)"
   ]
  },
  {
   "cell_type": "markdown",
   "metadata": {},
   "source": [
    "We can add another physicist to the list by using the `append` method:"
   ]
  },
  {
   "cell_type": "code",
   "execution_count": 3,
   "metadata": {},
   "outputs": [
    {
     "data": {
      "text/plain": [
       "['Maxwell', 'Einstein', 'Curie', 'Newton', 'Lagrange', 'Coulomb']"
      ]
     },
     "execution_count": 3,
     "metadata": {},
     "output_type": "execute_result"
    }
   ],
   "source": [
    "physicists.append('Coulomb')    # Add 'Coulomb' to the end of the list\n",
    "physicists                      # Display the new list"
   ]
  },
  {
   "cell_type": "markdown",
   "metadata": {},
   "source": [
    "Or we can remove a physicist by using the `remove` method:"
   ]
  },
  {
   "cell_type": "code",
   "execution_count": 4,
   "metadata": {},
   "outputs": [
    {
     "data": {
      "text/plain": [
       "['Maxwell', 'Einstein', 'Curie', 'Lagrange', 'Coulomb']"
      ]
     },
     "execution_count": 4,
     "metadata": {},
     "output_type": "execute_result"
    }
   ],
   "source": [
    "physicists.remove('Newton')    # Remove 'Newton' from the list\n",
    "physicists                     # Display the new list"
   ]
  },
  {
   "cell_type": "markdown",
   "metadata": {},
   "source": [
    "Notice that using the `append` and `remove` methods required us to use something called 'dot notation', which is where we use a *dot* `(.)`, or the period key on a keyboard. Using these methods are crucial to using Python objects and help us either extract or manipulate the information in these objects."
   ]
  },
  {
   "cell_type": "markdown",
   "metadata": {},
   "source": [
    "# Creating our own Python objects"
   ]
  },
  {
   "cell_type": "markdown",
   "metadata": {},
   "source": [
    "Something we'll be doing in this series often is using point charges, which always have a charge $q$, as well as $x$- and $y$-coordinates. Knowing this, it would seem like point charges themselves would be perfect Python objects! Imagine we could simply call the charge and coordinates by using dot notation for each charge. For example, imagine we had a point charge with charge $q_1 = 5.3 \\times 10^{-6}$ $\\textrm{C}$ at the point $(1,5)$. If we could print out its charge, x, and y coordinates, it would look something like this:"
   ]
  },
  {
   "cell_type": "code",
   "execution_count": 4,
   "metadata": {},
   "outputs": [
    {
     "name": "stdout",
     "output_type": "stream",
     "text": [
      "5.3e-06\n",
      "1\n",
      "5\n"
     ]
    }
   ],
   "source": [
    "print(q1.q)\n",
    "print(q1.x)\n",
    "print(q1.y)"
   ]
  },
  {
   "cell_type": "markdown",
   "metadata": {},
   "source": [
    "The really nice thing about this is that a Python object will keep all of the information about an object in a compact form that we can easily access. Instead of creating three variables for each point charge (one for the charge and two for the coordinates), we can simply create a single object and call the relevant information using dot notation. But the biggest issue is that point charges aren't a built-in Python object, since its a very specific idea. Could we find a way to *create* the point charge as a Python object?"
   ]
  },
  {
   "cell_type": "markdown",
   "metadata": {},
   "source": [
    "# Python Classes"
   ]
  },
  {
   "cell_type": "markdown",
   "metadata": {},
   "source": [
    "In order for us to use point charges as new objects, we have to first create a blueprint that defines what a point charge is. In Python, this blueprint is called a *class*. We will create a class here called `PointCharge` that takes in three pieces of information - the charge $(q)$, the $x$-coordinate $(x)$, and the $y$-coordinate $(y)$ - and we will be using this class for the rest of the series. Right now, don't worry too much about how to create a class - I can do that for you - but simply focus on how to create a new point charge object from the class. In the following block of code, I will present the `PointCharge` class. Note that this does not create any point charges, but simply creates a *blueprint* that will allow us to create as many point charges as we'd like to."
   ]
  },
  {
   "cell_type": "code",
   "execution_count": 5,
   "metadata": {},
   "outputs": [],
   "source": [
    "class PointCharge:\n",
    "    \"\"\"\n",
    "    This class creates the definition of a point charge, which is a point particle (like a proton or electron)\n",
    "    of charge q at the point (x,y). The values of q, x, and y are determined when the point particle \n",
    "    is created.\n",
    "    \"\"\"\n",
    "    \n",
    "    # Define the initializer (init), which initializes each point charge.\n",
    "    # Add charge (q), x-coordinate (x), and y-coordinate (y) to each new point charge.\n",
    "    \n",
    "    # The order of the variables is (charge, x-coord, y-coord)\n",
    "    def __init__(self,q,x,y):\n",
    "        self.q = q\n",
    "        self.x = x\n",
    "        self.y = y\n",
    "        \n",
    "    # We have now defined, in Python, what a point charge is. We can create as many point charges as we\n",
    "    # would like to, by using the syntax:\n",
    "    \n",
    "    # PointCharge(q,x,y)"
   ]
  },
  {
   "cell_type": "markdown",
   "metadata": {},
   "source": [
    "Please understand - when creating the `PointCharge` class, *we did not create any point charges*. All we did was simply create the blueprint. We can now create as many point charges as we would like, simply by calling the `PointCharge` class like this:"
   ]
  },
  {
   "cell_type": "code",
   "execution_count": null,
   "metadata": {},
   "outputs": [],
   "source": [
    "# Make sure each variable is in the right order! The order is defined in the code block above.\n",
    "\n",
    "PointCharge(charge, x-coordinate, y-coordinate)"
   ]
  },
  {
   "cell_type": "markdown",
   "metadata": {},
   "source": [
    "Let's look at an example."
   ]
  },
  {
   "cell_type": "markdown",
   "metadata": {},
   "source": [
    "# Example 1"
   ]
  },
  {
   "cell_type": "markdown",
   "metadata": {},
   "source": [
    "Create a Python object called $q_1$ with a charge of $1.5$ $\\textrm{nC}$ at the point $(3,8)$. This object should be a PointCharge type. Print out each of these values using the Python `print` function."
   ]
  },
  {
   "cell_type": "code",
   "execution_count": 6,
   "metadata": {},
   "outputs": [
    {
     "name": "stdout",
     "output_type": "stream",
     "text": [
      "1.5e-09\n",
      "3\n",
      "8\n"
     ]
    }
   ],
   "source": [
    "# First, create the point charge and call it q1\n",
    "\n",
    "q1 = PointCharge(1.5e-9, 3, 8)\n",
    "\n",
    "# That's all there is to it! We've successfully created a new point charge. Let's print the output.\n",
    "\n",
    "# Make sure to call each variable by using dot notation!\n",
    "\n",
    "print(q1.q)\n",
    "print(q1.x)\n",
    "print(q1.y)"
   ]
  },
  {
   "cell_type": "code",
   "execution_count": 7,
   "metadata": {},
   "outputs": [
    {
     "name": "stdout",
     "output_type": "stream",
     "text": [
      "(1.5e-09, 3, 8)\n"
     ]
    }
   ],
   "source": [
    "# Alternatively, we could print like this:\n",
    "\n",
    "print((q1.q, q1.x, q1.y))"
   ]
  },
  {
   "cell_type": "markdown",
   "metadata": {},
   "source": [
    "Let's look at one more example."
   ]
  },
  {
   "cell_type": "markdown",
   "metadata": {},
   "source": [
    "# Example 2"
   ]
  },
  {
   "cell_type": "markdown",
   "metadata": {},
   "source": [
    "Create two point charges with the following information:\n",
    "\n",
    "$q_1 = 4.9 \\times 10^{-6}$ $\\textrm{C}$  \n",
    "$x_1 = 3$  \n",
    "$y_1 = 8$\n",
    "\n",
    "$q_2 = -3.1 \\times 10^{-3}$ $\\textrm{C}$  \n",
    "$x_2 = 6$  \n",
    "$y_2 = 1$\n",
    "\n",
    "Then, find the distance $r$ and the force $F$ using Coulomb's Law between the two point charges and print the result.\n",
    "\n",
    "To find the distance between them, use the equation $$ r = \\sqrt{(x_2-x_1)^2 + (y_2-y_1)^2} $$\n",
    "\n",
    "Use Coulomb's Law to find the force: $$ F = \\frac{kq_1q_2}{r^2} $$"
   ]
  },
  {
   "cell_type": "code",
   "execution_count": 8,
   "metadata": {},
   "outputs": [
    {
     "name": "stdout",
     "output_type": "stream",
     "text": [
      "The force between the charges is -2.3 Newtons\n"
     ]
    }
   ],
   "source": [
    "# Create the point charges using the PointCharge class\n",
    "\n",
    "q1 = PointCharge(4.9e-6, 3, 8)\n",
    "q2 = PointCharge(-3.1e-3, 6, 1)\n",
    "\n",
    "# Next we find the distance between the two, using the above equation. The square root function\n",
    "# isn't built-in to Python, we have to import it from the math module:\n",
    "\n",
    "from math import sqrt\n",
    "\n",
    "# Now we calculate the value of r\n",
    "# Remember to call the x- and y-coordinates using dot notation! (q1.x, q2.x, etc.)\n",
    "# Also, when we square a number in Python, we use double asterisk notation (like **) instead of ^\n",
    "\n",
    "r = sqrt( (q2.x - q1.x)**2 + (q2.y - q1.y)**2 )\n",
    "\n",
    "# Calculate the value of the force F\n",
    "# Remember to call the charge by using dot notation (q1.q and q2.q)\n",
    "\n",
    "k = 8.9e9   # Coulomb's constant\n",
    "F = k * q1.q * q2.q / r**2\n",
    "\n",
    "# Print out the result\n",
    "print(\"The force between the charges is %.2g Newtons\" % F)"
   ]
  },
  {
   "cell_type": "markdown",
   "metadata": {},
   "source": [
    "Doing this problem with `PointCharge` objects was considerably easier and more compact than using individual variables. Instead of defining the individual charges, $x$-coordinates, and $y$-coordinates (total of 6 variables), all we had to do was create two `PointCharge` objects (total of 2 variables) and use dot notation."
   ]
  }
 ],
 "metadata": {
  "kernelspec": {
   "display_name": "CompPhys",
   "language": "python",
   "name": "compphys"
  },
  "language_info": {
   "codemirror_mode": {
    "name": "ipython",
    "version": 3
   },
   "file_extension": ".py",
   "mimetype": "text/x-python",
   "name": "python",
   "nbconvert_exporter": "python",
   "pygments_lexer": "ipython3",
   "version": "3.8.1"
  }
 },
 "nbformat": 4,
 "nbformat_minor": 4
}
