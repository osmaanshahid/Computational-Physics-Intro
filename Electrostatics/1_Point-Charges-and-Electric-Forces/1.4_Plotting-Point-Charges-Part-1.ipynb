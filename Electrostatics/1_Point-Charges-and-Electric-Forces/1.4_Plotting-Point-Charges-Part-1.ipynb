{
 "cells": [
  {
   "cell_type": "markdown",
   "metadata": {},
   "source": [
    "# Plotting Point Charges in Python"
   ]
  },
  {
   "cell_type": "markdown",
   "metadata": {},
   "source": [
    "When dealing with point charges, being able to see where they are in space helps us visualize the problem a lot easier. This allows us to see what we may be dealing with, think about the problem, and exploit any symmetries that may not be obvious.\n",
    "\n",
    "To that end, we focus on using `matplotlib.pyplot` in this section to plot our point charges. In general, `matplotlib` is a famous Python package that is used for visualization, and `matplotlib.pyplot` is the interface we will be using.\n",
    "\n",
    "What I'll do first is show you the easy (but less-practical) method of using `pyplot`. Then I'll show you the better (but slightly harder) way to use `pyplot`.\n",
    "\n",
    "To start, we import `matplotlib.pyplot` with the abbreviation `plt`:"
   ]
  },
  {
   "cell_type": "code",
   "execution_count": 1,
   "metadata": {},
   "outputs": [],
   "source": [
    "import matplotlib.pyplot as plt"
   ]
  },
  {
   "cell_type": "markdown",
   "metadata": {},
   "source": [
    "The `plt` module has many different functions, and here we will be using the `plt.scatter` function. Given a list of $(x,y)$ coordinates, `plt.scatter` will make a scatter plot for us. The syntax is as follows:"
   ]
  },
  {
   "cell_type": "code",
   "execution_count": null,
   "metadata": {},
   "outputs": [],
   "source": [
    "plt.scatter([list of x-coords], [list of y-coords])"
   ]
  },
  {
   "cell_type": "markdown",
   "metadata": {},
   "source": [
    "For example, let's say we want to put point charges at the points $(1,2)$, $(3,-7)$, $(-2,5)$, and $(6,1)$. We would do this by first defining a list of x-coordinates and then a list of y-coordinates."
   ]
  },
  {
   "cell_type": "code",
   "execution_count": 2,
   "metadata": {},
   "outputs": [],
   "source": [
    "# Define x and y coords\n",
    "x = [1,3,-2,6]\n",
    "y = [2,-7,5,1]"
   ]
  },
  {
   "cell_type": "markdown",
   "metadata": {},
   "source": [
    "Then, we can use `plt.scatter(x,y)` to plot them:"
   ]
  },
  {
   "cell_type": "code",
   "execution_count": 5,
   "metadata": {},
   "outputs": [
    {
     "data": {
      "text/plain": [
       "<matplotlib.collections.PathCollection at 0x18bf7990df0>"
      ]
     },
     "execution_count": 5,
     "metadata": {},
     "output_type": "execute_result"
    },
    {
     "data": {
      "image/png": "[encoded data removed]",
      "text/plain": [
       "<Figure size 432x288 with 1 Axes>"
      ]
     },
     "metadata": {
      "needs_background": "light"
     },
     "output_type": "display_data"
    }
   ],
   "source": [
    "plt.scatter(x,y)"
   ]
  },
  {
   "cell_type": "markdown",
   "metadata": {},
   "source": [
    "Although this method works, you'll notice that there are some issues. The origin is not at the center of the figure, and the axes limits are all over the place. In addition, there a few problems with using only the `plt.scatter` function. To fix these, let's first do a quick rundown of the `matplotlib` interface."
   ]
  },
  {
   "cell_type": "markdown",
   "metadata": {},
   "source": [
    "# Figure and Axes"
   ]
  },
  {
   "cell_type": "markdown",
   "metadata": {},
   "source": [
    "Every single `matplotlib` object has two main parts: a figure (`fig`) object and an axis (`ax`) object. The `ax` object is made up of the $xy$-axes, tick marks, the border, the blue points in the scatter plot, and a few other things. The `ax` object sits inside the `fig` object. For the most part, we will be interacting with the `ax` object and leaving the `fig` object alone."
   ]
  },
  {
   "cell_type": "markdown",
   "metadata": {},
   "source": [
    "In general, the best practices for using `matplotlib` are generally as follows:\n",
    "\n",
    "* Create a figure and axis using `plt.subplots()` (it may seem strange to use the `plt.subplots()` function for a single axis, but that's just how it goes)\n",
    "* Add a scatter plot onto the `ax` object\n",
    "* Adjust any parameters, including the $x$ and $y$ labels, title, tick marks, grid, axes limits, etc.\n",
    "* Show the figure using `plt.show()`"
   ]
  },
  {
   "cell_type": "markdown",
   "metadata": {},
   "source": [
    "The commands to create a scatter plot for our example are below:"
   ]
  },
  {
   "cell_type": "code",
   "execution_count": 17,
   "metadata": {},
   "outputs": [
    {
     "data": {
      "image/png": "[encoded data removed]",
      "text/plain": [
       "<Figure size 432x288 with 1 Axes>"
      ]
     },
     "metadata": {
      "needs_background": "light"
     },
     "output_type": "display_data"
    }
   ],
   "source": [
    "# First create a figure and axis. This is standard syntax, so be prepared to see the following commands quite often!\n",
    "fig, ax = plt.subplots()\n",
    "\n",
    "# Add a scatter plot. Notice that we use ax.scatter() instead of plt.scatter() to specify which axis we use.\n",
    "ax.scatter(x,y)\n",
    "\n",
    "# Set a title, x-label, and y-label.\n",
    "ax.set_title(\"Figure 1: Four Point Charges\")\n",
    "ax.set_xlabel(\"X axis\")\n",
    "ax.set_ylabel(\"Y axis\")\n",
    "\n",
    "# Change the limits for the x-axis so that it goes from x = -10 to x = 10.\n",
    "ax.set_xlim(-10, 10)\n",
    "\n",
    "# Change the limits for the y-axis so that it goes from y = -10 to y = 10.\n",
    "ax.set_ylim(-10, 10)\n",
    "\n",
    "# Finally, show the figure\n",
    "plt.show()"
   ]
  },
  {
   "cell_type": "markdown",
   "metadata": {},
   "source": [
    "Now this figure looks much better! It's centered at the origin, it has a title, and it has labels. Every figure we make will have these properties, as needed. The commands in the previous cell block are *very* common, so please look back at these since you will be using them often."
   ]
  },
  {
   "cell_type": "markdown",
   "metadata": {},
   "source": [
    "This particular section was focused on using `matplotlib.pyplot` to create scatter plots, and focused more on Python and programming rather than the physics. In Part 2 of this lesson, we will focus on using these skills to create and plot individual point charges."
   ]
  },
  {
   "cell_type": "code",
   "execution_count": null,
   "metadata": {},
   "outputs": [],
   "source": []
  }
 ],
 "metadata": {
  "kernelspec": {
   "display_name": "CompPhys",
   "language": "python",
   "name": "compphys"
  },
  "language_info": {
   "codemirror_mode": {
    "name": "ipython",
    "version": 3
   },
   "file_extension": ".py",
   "mimetype": "text/x-python",
   "name": "python",
   "nbconvert_exporter": "python",
   "pygments_lexer": "ipython3",
   "version": "3.8.1"
  }
 },
 "nbformat": 4,
 "nbformat_minor": 4
}
