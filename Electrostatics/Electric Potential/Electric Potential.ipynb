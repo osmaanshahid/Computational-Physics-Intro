{
 "cells": [
  {
   "cell_type": "code",
   "execution_count": 2,
   "metadata": {},
   "outputs": [],
   "source": [
    "import numpy as np\n",
    "import math\n",
    "import matplotlib.pyplot as plt"
   ]
  },
  {
   "cell_type": "code",
   "execution_count": 3,
   "metadata": {},
   "outputs": [],
   "source": [
    "class PointCharge:\n",
    "    \"\"\"Creates a point charge of charge q at a point (x,y) from the origin.\"\"\"\n",
    "    \n",
    "    # Initializer - add charge and x- and y-coordinates to the point charge\n",
    "    def __init__(self,charge,x,y):\n",
    "        self.charge = charge\n",
    "        self.x = x\n",
    "        self.y = y"
   ]
  },
  {
   "cell_type": "code",
   "execution_count": 4,
   "metadata": {},
   "outputs": [],
   "source": [
    "from math import sqrt\n",
    "\n",
    "def V(q,x,y):\n",
    "    \"This function calculates the potential at the point (x,y) due to a point charge q.\"\n",
    "    \n",
    "    k = 9e9\n",
    "    Q = q.charge\n",
    "    r = sqrt( (q.x-x)**2 + (q.y-y)**2 )\n",
    "    \n",
    "    try:\n",
    "        V = k*Q/r\n",
    "    except ZeroDivisionError:\n",
    "        print(\"Error: r = 0, so V is undefined at this point.\")\n",
    "        return\n",
    "    \n",
    "    return V\n",
    "\n",
    "def F(q1,q2):\n",
    "    \"\"\"This function calculates the magnitude of the force between two point charges of charge q1 and q1.\"\"\"\n",
    "    \n",
    "    k = 9e9\n",
    "    \n",
    "    Q1,Q2 = q1.charge, q2.charge\n",
    "    r = sqrt((q1.x - q2.x)**2 + (q1.y - q1.x)**2)\n",
    "    F = k*Q1*Q2/r**2\n",
    "    \n",
    "    return F"
   ]
  },
  {
   "cell_type": "markdown",
   "metadata": {},
   "source": [
    "# Example 1\n",
    "\n",
    "There are three point charges in a triangle configuration. Their charges and locations are given here:\n",
    "\n",
    "$q_1 = 4.2 \\textrm{ nC and } (x_1, y_1) = (0 \\textrm{ cm, } 2 \\textrm{ cm})$\n",
    "\n",
    "$q_2 = -3.6 \\textrm{ nC and } (x_1, y_1) = (2 \\textrm{ cm, } -3 \\textrm{ cm})$\n",
    "\n",
    "$q_3 = 7.5 \\textrm{ mC and } (x_1, y_1) = (-2 \\textrm{ cm, } -3 \\textrm{ cm})$\n",
    "\n",
    "A.) Create three objects in Python ($q_1$, $q_2$, and $q_3$) with the corresponding coordinates and charges. Put them into a single list: $Q$ = [ $q_1$,  $q_2$ , $q_3$ ]\n",
    "\n",
    "B.) Plot these point charges as points on a scatter plot using matplotlib, to see where they are in space.\n",
    "\n",
    "C.) Calculate the total potential at the origin due to each of the charges."
   ]
  },
  {
   "cell_type": "markdown",
   "metadata": {},
   "source": [
    "# Solution"
   ]
  },
  {
   "cell_type": "markdown",
   "metadata": {},
   "source": [
    "### A.) First Method: Create three separate point charges, and put them together in a list. Here, we define the point charges individually by calling them $q_1$, $q_2$, and $q_3$. Then we put them in a list like this:\n",
    "### $Q$ = [ $q_1$,  $q_2$ , $q_3$ ]\n",
    "### so that we can loop over each element later on."
   ]
  },
  {
   "cell_type": "code",
   "execution_count": 10,
   "metadata": {},
   "outputs": [],
   "source": [
    "# The format for creating a point charge:\n",
    "# q = PointCharge(charge, x-coordinate, y-coordinate)\n",
    "# Do this for each charge\n",
    "\n",
    "q1 = PointCharge(4.2e-9, 0, 0.02)\n",
    "q2 = PointCharge(-3.6e-9, 0.02, -0.03)\n",
    "q3 = PointCharge(7.5e-3, -0.02, -0.03)\n",
    "\n",
    "Q = [q1,q2,q3]"
   ]
  },
  {
   "cell_type": "markdown",
   "metadata": {},
   "source": [
    "### A.) Second Method: Create a list for the charges, x-coordinates, and y-coordinates. Loop over each list, create a point charge, and append this point charge to an empty list called $Q$."
   ]
  },
  {
   "cell_type": "code",
   "execution_count": 11,
   "metadata": {},
   "outputs": [],
   "source": [
    "# Create lists for xcoord, ycoord, and charges.\n",
    "charges = [4.2e-9, -3.6e-9, 7.5e-3]\n",
    "xcoord = [0, 0.02, -0.02]\n",
    "ycoord = [0.02, -0.03, -0.03]\n",
    "\n",
    "# Create an empty list called 'Q'. We'll add to this later on.\n",
    "Q = []\n",
    "\n",
    "# Loop over the xcoord, ycoord, and charges lists simultaneously using the 'zip' function,\n",
    "# create point charges, and append them to the empty list called 'Q'.\n",
    "for q,x,y in zip(charges, xcoord, ycoord):\n",
    "    Q.append(PointCharge(q,x,y))"
   ]
  },
  {
   "cell_type": "markdown",
   "metadata": {},
   "source": [
    "### A.) Third Method: Create the three lists like in the Second Method, but use a list comprehension to create the charge list Q instead of a for loop. "
   ]
  },
  {
   "cell_type": "code",
   "execution_count": 12,
   "metadata": {},
   "outputs": [],
   "source": [
    "# Create lists for xcoord, ycoord, and charges.\n",
    "charges = [4.2e-9, -3.6e-9, 7.5e-3]\n",
    "xcoord = [0, 0.02, -0.02]\n",
    "ycoord = [0.02, -0.03, -0.03]\n",
    "\n",
    "Q = [ PointCharge(q,x,y) for q,x,y in zip(charges, xcoord, ycoord)]"
   ]
  },
  {
   "cell_type": "markdown",
   "metadata": {},
   "source": [
    "### B.) We have the x,y coordinates in the two lists xcoord and ycoord. We can use the plt.scatter function to plot these as point charges on xy-axes."
   ]
  },
  {
   "cell_type": "code",
   "execution_count": 14,
   "metadata": {},
   "outputs": [
    {
     "data": {
      "image/png": "[encoded data removed]",
      "text/plain": [
       "<Figure size 432x288 with 1 Axes>"
      ]
     },
     "metadata": {
      "needs_background": "light"
     },
     "output_type": "display_data"
    }
   ],
   "source": [
    "import matplotlib.pyplot as plt\n",
    "\n",
    "plt.scatter(xcoord,ycoord)\n",
    "plt.xlabel(\"$x$ (m)\")\n",
    "plt.ylabel(\"$y$ (m)\")\n",
    "plt.grid()\n",
    "plt.show()"
   ]
  },
  {
   "cell_type": "markdown",
   "metadata": {},
   "source": [
    "### C.) To do this, we first initialize the variable $V_o$ (the electric potential at the origin). Then we loop over each charge and add its contribution to $V_o$."
   ]
  },
  {
   "cell_type": "code",
   "execution_count": 15,
   "metadata": {},
   "outputs": [
    {
     "data": {
      "text/plain": [
       "1872114153.6458306"
      ]
     },
     "execution_count": 15,
     "metadata": {},
     "output_type": "execute_result"
    }
   ],
   "source": [
    "# Define V_o to be zero, as a floating point value\n",
    "V_o = 0.0\n",
    "\n",
    "# Loop over each charge.\n",
    "for q in Q:                   # For each charge in Q,\n",
    "    V_o += V(q,0,0)           # Add its electric potential to that at the origin.\n",
    "    \n",
    "V_o"
   ]
  },
  {
   "cell_type": "markdown",
   "metadata": {},
   "source": [
    "# Example 2\n",
    "\n",
    "There is a point charge at the origin with a charge $q_1 = 5.3 \\textrm{ mC}$. We are going to visualize the electric potential that it creates at all points in space near the charge.\n",
    "\n",
    "A.) The first step is to set up the xy-axes that we'll be using. Let's create our axes as a square with side of length 2, centered around the origin. We can do this by defining the four sides of our square:\n",
    "\n",
    "$x_1 = -1$       \n",
    "$x_2 = 1$     \n",
    "$y_1 = -1$     \n",
    "$y_2 = 1$     "
   ]
  },
  {
   "cell_type": "code",
   "execution_count": null,
   "metadata": {},
   "outputs": [],
   "source": [
    "# Define each point manually. Units of distance are meters\n",
    "x1 = -1\n",
    "x2 = 1\n",
    "y1 = -1\n",
    "y2 = 1"
   ]
  },
  {
   "cell_type": "markdown",
   "metadata": {},
   "source": [
    "B.) We also have to discretize our axes, meaning our xy-axes will really be an $N \\times N$ array of boxes, and we fill each box with the value of the electric potential at that point. Call it $V_{space}$, which is the electric potential at all points in space within our grid. We can define a value of $N$ and create an empty array that we'll fill in later. Creating an empty array before starting the problem allocates a certain amount of memory for it in the computer, which is always faster than creating arrays as we go.\n",
    "\n",
    "Ultimately, we have three immediate tasks:\n",
    "\n",
    "* Define a value of $N$ (for example, let's say $N = 10$). I encourage you to change this later and see how it affects the results!\n",
    "\n",
    "\n",
    "* Create an empty grid (array of boxes) of size $ N \\times N$, which we can do easily using the `np.zeros` function. The syntax is as follows:\n",
    "\n",
    "    * `V_space = np.zeros([nrows,ncols], datatype)` where `nrows` is the number of rows, `ncols` is the number of columns, and `datatype` is the type of data in the array. In our case, use $N$ for both the number of rows and columns, and the data type we'll use is the `float`.\n",
    "    \n",
    "    \n",
    "* We'll also place a point charge at the origin $(0,0)$ with charge $5.3 \\times 10^{-6} \\textrm{ C}$, and call it $q$."
   ]
  },
  {
   "cell_type": "code",
   "execution_count": null,
   "metadata": {},
   "outputs": [],
   "source": [
    "# Define the size of our box\n",
    "N = 10\n",
    "\n",
    "# Create an emtpy array for our electric potential, and call it V_space\n",
    "V_space = np.zeros([N,N], float)\n",
    "\n",
    "# Create a point charge at the origin\n",
    "q = Pointcharge(5.3e-6, 0, 0)"
   ]
  },
  {
   "cell_type": "markdown",
   "metadata": {},
   "source": [
    "C.) Now we start thinking about a way for us to loop through each $(x,y)$ coordinate. One way to do this is to use the NumPy linspace command to create a set of $x$ and $y$ values for us to loop through. Create a Python variable called $x$ which is a set of $N$ coordinates that is evenly spaced from $x_1$ to $x_2$. Do the same for $y$."
   ]
  },
  {
   "cell_type": "code",
   "execution_count": null,
   "metadata": {},
   "outputs": [],
   "source": [
    "x = np.linspace(x1,x2,N)\n",
    "y = np.linspace(y1,y2,N)"
   ]
  },
  {
   "cell_type": "markdown",
   "metadata": {},
   "source": [
    "D.) This is the part where we calculate the potential. We have an array of zeros called $V_{space}$, and as we loop through each $x$ and $y$ coordinate, we will calculate the electric potential $V(x,y)$ and insert it into the $V_{space}$ array.\n",
    "\n",
    "To loop through the $x$ and $y$ coordinates, use these for loops:"
   ]
  },
  {
   "cell_type": "code",
   "execution_count": null,
   "metadata": {},
   "outputs": [],
   "source": [
    "for i in range(len(x)):\n",
    "    for j in range(len(y)):"
   ]
  },
  {
   "cell_type": "markdown",
   "metadata": {},
   "source": [
    "We now have $i$ and $j$, which refer to $i^{th}$ value along the $x$-axis and the $j^{th}$ value along the $y$-axis.\n",
    "\n",
    "\n",
    "\n",
    "the $i^{th}$ row and $j^{th}$ "
   ]
  },
  {
   "cell_type": "code",
   "execution_count": 18,
   "metadata": {},
   "outputs": [
    {
     "data": {
      "image/png": "[encoded data removed]",
      "text/plain": [
       "<Figure size 576x432 with 2 Axes>"
      ]
     },
     "metadata": {
      "needs_background": "light"
     },
     "output_type": "display_data"
    }
   ],
   "source": [
    "N = 100\n",
    "\n",
    "x1 = -1\n",
    "x2 = 1\n",
    "\n",
    "y1 = -1\n",
    "y2 = 1\n",
    "\n",
    "\n",
    "V_space = np.zeros([N,N], float)\n",
    "\n",
    "\n",
    "q = PointCharge(5.3e-9,0,0)\n",
    "\n",
    "\n",
    "x = np.linspace(x1,x2,N)\n",
    "y = np.linspace(y1,y2,N)\n",
    "\n",
    "\n",
    "for i in range(len(x)):\n",
    "    for j in range(len(y)):\n",
    "        \n",
    "        if x[i] == q.x and y[j] == q.y:\n",
    "            V_space[i,j] = np.max(V_space)\n",
    "            continue\n",
    "        \n",
    "        V_space[i,j] = V(q,x[i],y[j])\n",
    "\n",
    "\n",
    "plt.figure(figsize=(8,6))\n",
    "plt.imshow(V_space, origin='lower', cmap = 'viridis', extent=(x1,x2,y1,y2))\n",
    "plt.title(\"Electric Potential due to a Point Charge\")\n",
    "plt.xlabel(\"$x$ (m)\")\n",
    "plt.ylabel(\"$y$ (m)\")\n",
    "plt.colorbar()\n",
    "plt.show()"
   ]
  },
  {
   "cell_type": "code",
   "execution_count": null,
   "metadata": {},
   "outputs": [],
   "source": []
  }
 ],
 "metadata": {
  "kernelspec": {
   "display_name": "CompPhys",
   "language": "python",
   "name": "compphys"
  },
  "language_info": {
   "codemirror_mode": {
    "name": "ipython",
    "version": 3
   },
   "file_extension": ".py",
   "mimetype": "text/x-python",
   "name": "python",
   "nbconvert_exporter": "python",
   "pygments_lexer": "ipython3",
   "version": "3.8.1"
  }
 },
 "nbformat": 4,
 "nbformat_minor": 2
}
